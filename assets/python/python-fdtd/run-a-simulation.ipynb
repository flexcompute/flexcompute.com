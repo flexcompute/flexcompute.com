{
  "metadata": {
    "language_info": {
      "name": ""
    },
    "kernelspec": {
      "name": "python",
      "display_name": "Python (Pyodide)",
      "language": "python"
    }
  },
  "nbformat_minor": 4,
  "nbformat": 4,
  "cells": [
    {
      "cell_type": "markdown",
      "source": "Run a simulation",
      "metadata": {}
    },
    {
      "cell_type": "code",
      "source": "# import the tidy3d package and configure it with your API key\nimport tidy3d as td\nimport tidy3d.web as web\nimport numpy as np\n\n# set up global parameters of simulation ( speed of light / wavelength in micron )\nfreq0 = td.C_0 / 0.75\n\n# create structure - a box centered at 0, 0, 0 with a size of 1.5 micron and permittivity of 2\nsquare = td.Structure(\n    geometry=td.Box(center=(0, 0, 0), size=(1.5, 1.5, 1.5)),\n    medium=td.Medium(permittivity=2.0)\n)\n\n# create source - A uniform current source with frequency freq0 on the left side of the domain\nsource = td.UniformCurrentSource(\n    center=(-1.5, 0, 0),\n    size=(0, 0.4, 0.4),\n    source_time=td.GaussianPulse(freq0=freq0, fwidth=freq0 / 10.0),\n    polarization=\"Ey\",\n)\n\n# create monitor - Measures electromagnetic fields within the entire domain at z=0\nmonitor = td.FieldMonitor(\n    size=(td.inf, td.inf, 0),\n    freqs=[freq0],\n    name=\"fields\",\n    colocate=True,\n)\n\n# Initialize simulation - Combine all objects together into a single specification to run\nsim = td.Simulation(\n    size=(4, 3, 3),\n    grid_spec=td.GridSpec.auto(min_steps_per_wvl=25),\n    structures=[square],\n    sources=[source],\n    monitors=[monitor],\n    run_time=120/freq0,\n)\n\nprint(f\"simulation grid is shaped {sim.grid.num_cells} for {int(np.prod(sim.grid.num_cells)/1e6)} million cells.\")\n\n# run simulation through the cloud and plot the field data computed by the solver and stored in the monitor\ndata = td.web.run(sim, task_name=\"quickstart\", path=\"data/data.hdf5\", verbose=True)",
      "metadata": {},
      "execution_count": null,
      "outputs": []
    },
    {
      "cell_type": "markdown",
      "source": "Analyze results",
      "metadata": {}
    },
    {
      "cell_type": "code",
      "source": "ax = data.plot_field(\"fields\", \"Ey\", z=0)",
      "metadata": {},
      "execution_count": null,
      "outputs": []
    }
  ]
}
